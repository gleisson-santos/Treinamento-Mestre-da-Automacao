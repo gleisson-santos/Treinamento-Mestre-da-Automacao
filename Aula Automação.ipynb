{
 "cells": [
  {
   "cell_type": "code",
   "execution_count": 1,
   "id": "0341f491",
   "metadata": {
    "collapsed": true
   },
   "outputs": [
    {
     "name": "stdout",
     "output_type": "stream",
     "text": [
      "\n"
     ]
    },
    {
     "name": "stderr",
     "output_type": "stream",
     "text": [
      "[WDM] - ====== WebDriver manager ======\n",
      "[WDM] - Current google-chrome version is 112.0.5615\n",
      "[WDM] - Get LATEST chromedriver version for 112.0.5615 google-chrome\n",
      "[WDM] - There is no [win32] chromedriver for browser 112.0.5615 in cache\n",
      "[WDM] - About to download new driver from https://chromedriver.storage.googleapis.com/112.0.5615.49/chromedriver_win32.zip\n",
      "[WDM] - Driver has been saved in cache [C:\\Users\\55719\\.wdm\\drivers\\chromedriver\\win32\\112.0.5615.49]\n",
      "C:\\Users\\55719\\AppData\\Local\\Temp\\ipykernel_9992\\1419240704.py:14: DeprecationWarning: executable_path has been deprecated, please pass in a Service object\n",
      "  driver = webdriver.Chrome(ChromeDriverManager().install())\n"
     ]
    }
   ],
   "source": [
    "from selenium import webdriver\n",
    "from selenium.webdriver.common.by import By\n",
    "from selenium.webdriver.support.ui import WebDriverWait\n",
    "from selenium.webdriver.support import expected_conditions as EC\n",
    "from selenium.common.exceptions import NoSuchElementException\n",
    "from selenium.webdriver.chrome.options import Options\n",
    "from webdriver_manager.chrome import ChromeDriverManager\n",
    "import pandas as pd\n",
    "import pyodbc\n",
    "import time"
   ]
  },
  {
   "cell_type": "code",
   "execution_count": 11,
   "id": "ca429ee2",
   "metadata": {},
   "outputs": [],
   "source": [
    "class CursoAutomacao:\n",
    "    def __init__(self):   \n",
    "        options = Options()\n",
    "        options.add_argument(\"start-maximized\")\n",
    "        self.driver = webdriver.Chrome(ChromeDriverManager().install(), options=options)\n",
    "        self.driver.get(\"https://cursoautomacao.netlify.app/index.html\")\n",
    "    \n",
    "    def Iniciar(self):\n",
    "        elem1 = self.driver.find_element(By.XPATH, '//*[contains(text(), \"Exemplo\")]')\n",
    "        print(elem1.text)\n",
    "        elem2 = self.driver.find_element(By.XPATH, '//*[contains(text(), \"Exemplo\") or contains (text(), \"Dropdown\")]')\n",
    "        print(elem2.text)\n",
    "        elem3 = self.driver.find_element(By.XPATH, '//*[contains(text(), \"Exemplo\") and contains (text(), \"Checkbox\")]')\n",
    "        print(elem3.text)\n",
    "        elem4 = self.driver.find_element(By.XPATH, '//*[starts-with(text(), \"Elementos\")]')\n",
    "        print(elem4.text)\n",
    "        elem5 = self.driver.find_element(By.XPATH, '//*[starts-with(@class, \"btn\")]')\n",
    "        print(elem5.text)"
   ]
  },
  {
   "cell_type": "code",
   "execution_count": 12,
   "id": "a391863d",
   "metadata": {
    "collapsed": true
   },
   "outputs": [
    {
     "name": "stdout",
     "output_type": "stream",
     "text": [
      "\n"
     ]
    },
    {
     "name": "stderr",
     "output_type": "stream",
     "text": [
      "[WDM] - ====== WebDriver manager ======\n",
      "[WDM] - Current google-chrome version is 112.0.5615\n",
      "[WDM] - Get LATEST chromedriver version for 112.0.5615 google-chrome\n",
      "[WDM] - Driver [C:\\Users\\55719\\.wdm\\drivers\\chromedriver\\win32\\112.0.5615.49\\chromedriver.exe] found in cache\n",
      "C:\\Users\\55719\\AppData\\Local\\Temp\\ipykernel_9992\\933531008.py:5: DeprecationWarning: executable_path has been deprecated, please pass in a Service object\n",
      "  self.driver = webdriver.Chrome(ChromeDriverManager().install(), options=options)\n"
     ]
    },
    {
     "name": "stdout",
     "output_type": "stream",
     "text": [
      "Exemplo Radio Buttons\n",
      "Exemplo Radio Buttons\n",
      "Exemplo Checkbox\n",
      "Elementos Desabilitados\n",
      "Menu Dropdown\n"
     ]
    }
   ],
   "source": [
    "Curso =  CursoAutomacao()\n",
    "Curso.Iniciar()"
   ]
  },
  {
   "cell_type": "code",
   "execution_count": null,
   "id": "5bb3e749",
   "metadata": {},
   "outputs": [],
   "source": [
    "class CursoAutomacao:\n",
    "    def __init__(self):   \n",
    "        options = Options()\n",
    "        options.add_argument(\"start-maximized\")\n",
    "        self.driver = webdriver.Chrome(ChromeDriverManager().install(), options=options)\n",
    "        self.driver.get(\"https://cursoautomacao.netlify.app/index.html\")\n",
    "    \n",
    "    def Iniciar(self):\n",
    "        # Seletores CSS\n",
    "        # tag (fiv, section, button)\n",
    "        # class (.nomeDaClass)\n",
    "        # id (#nomeDoId)\n",
    "        self.driver.find_element(By.CSS_SELECTOR, '#nomeDoId')\n",
    "        #tag[atributo='valor']  Exemplo -> input[class='form-check-input']\n",
    "        #tag[atributo^='valor'] Exemplo -> input[class^='form'] class que iniciar com form\n",
    "        #tag[atributo$='valor'] Exemplo -> input[class$='input'] class que termina com input\n",
    "        #tag[atributo*='valor'] Exemplo -> input[class*='check'] class que possui check"
   ]
  }
 ],
 "metadata": {
  "kernelspec": {
   "display_name": "Python 3 (ipykernel)",
   "language": "python",
   "name": "python3"
  },
  "language_info": {
   "codemirror_mode": {
    "name": "ipython",
    "version": 3
   },
   "file_extension": ".py",
   "mimetype": "text/x-python",
   "name": "python",
   "nbconvert_exporter": "python",
   "pygments_lexer": "ipython3",
   "version": "3.9.7"
  }
 },
 "nbformat": 4,
 "nbformat_minor": 5
}

{
 "cells": [
  {
   "cell_type": "code",
   "execution_count": 1,
   "id": "0341f491",
   "metadata": {},
   "outputs": [],
   "source": [
    "from selenium import webdriver\n",
    "from selenium.webdriver.common.by import By\n",
    "from selenium.webdriver.support.ui import WebDriverWait\n",
    "from selenium.webdriver.support import expected_conditions as EC\n",
    "from selenium.webdriver.support.select import Select\n",
    "from selenium.common.exceptions import NoSuchElementException\n",
    "from selenium.webdriver.chrome.options import Options\n",
    "from webdriver_manager.chrome import ChromeDriverManager\n",
    "import pandas as pd\n",
    "import pyodbc\n",
    "import time"
   ]
  },
  {
   "cell_type": "code",
   "execution_count": 11,
   "id": "ca429ee2",
   "metadata": {},
   "outputs": [],
   "source": [
    "#Modos de selecionar itens com xpath\n",
    "\n",
    "class CursoAutomacao:\n",
    "    def __init__(self):   \n",
    "        options = Options()\n",
    "        options.add_argument(\"start-maximized\")\n",
    "        self.driver = webdriver.Chrome(ChromeDriverManager().install(), options=options)\n",
    "        self.driver.get(\"https://cursoautomacao.netlify.app/index.html\")\n",
    "    \n",
    "    def Iniciar(self):\n",
    "        elem1 = self.driver.find_element(By.XPATH, '//*[contains(text(), \"Exemplo\")]')\n",
    "        print(elem1.text)\n",
    "        elem2 = self.driver.find_element(By.XPATH, '//*[contains(text(), \"Exemplo\") or contains (text(), \"Dropdown\")]')\n",
    "        print(elem2.text)\n",
    "        elem3 = self.driver.find_element(By.XPATH, '//*[contains(text(), \"Exemplo\") and contains (text(), \"Checkbox\")]')\n",
    "        print(elem3.text)\n",
    "        elem4 = self.driver.find_element(By.XPATH, '//*[starts-with(text(), \"Elementos\")]')\n",
    "        print(elem4.text)\n",
    "        elem5 = self.driver.find_element(By.XPATH, '//*[starts-with(@class, \"btn\")]')\n",
    "        print(elem5.text)"
   ]
  },
  {
   "cell_type": "code",
   "execution_count": 12,
   "id": "a391863d",
   "metadata": {
    "collapsed": true
   },
   "outputs": [
    {
     "name": "stdout",
     "output_type": "stream",
     "text": [
      "\n"
     ]
    },
    {
     "name": "stderr",
     "output_type": "stream",
     "text": [
      "[WDM] - ====== WebDriver manager ======\n",
      "[WDM] - Current google-chrome version is 112.0.5615\n",
      "[WDM] - Get LATEST chromedriver version for 112.0.5615 google-chrome\n",
      "[WDM] - Driver [C:\\Users\\55719\\.wdm\\drivers\\chromedriver\\win32\\112.0.5615.49\\chromedriver.exe] found in cache\n",
      "C:\\Users\\55719\\AppData\\Local\\Temp\\ipykernel_9992\\933531008.py:5: DeprecationWarning: executable_path has been deprecated, please pass in a Service object\n",
      "  self.driver = webdriver.Chrome(ChromeDriverManager().install(), options=options)\n"
     ]
    },
    {
     "name": "stdout",
     "output_type": "stream",
     "text": [
      "Exemplo Radio Buttons\n",
      "Exemplo Radio Buttons\n",
      "Exemplo Checkbox\n",
      "Elementos Desabilitados\n",
      "Menu Dropdown\n"
     ]
    }
   ],
   "source": [
    "Curso =  CursoAutomacao()\n",
    "Curso.Iniciar()"
   ]
  },
  {
   "cell_type": "code",
   "execution_count": null,
   "id": "5bb3e749",
   "metadata": {},
   "outputs": [],
   "source": [
    "# Modos de selecionar itens com tags\n",
    "\n",
    "class CursoAutomacao:\n",
    "    def __init__(self):   \n",
    "        options = Options()\n",
    "        options.add_argument(\"start-maximized\")\n",
    "        self.driver = webdriver.Chrome(ChromeDriverManager().install(), options=options)\n",
    "        self.driver.get(\"https://cursoautomacao.netlify.app/index.html\")\n",
    "    \n",
    "    def Iniciar(self):\n",
    "        # Seletores CSS\n",
    "        # tag (fiv, section, button)\n",
    "        # class (.nomeDaClass)\n",
    "        # id (#nomeDoId)\n",
    "        self.driver.find_element(By.CSS_SELECTOR, '#nomeDoId')\n",
    "        #tag[atributo='valor']  Exemplo -> input[class='form-check-input']\n",
    "        #tag[atributo^='valor'] Exemplo -> input[class^='form'] class que iniciar com form\n",
    "        #tag[atributo$='valor'] Exemplo -> input[class$='input'] class que termina com input\n",
    "        #tag[atributo*='valor'] Exemplo -> input[class*='check'] class que possui check"
   ]
  },
  {
   "cell_type": "code",
   "execution_count": 13,
   "id": "3d008553",
   "metadata": {},
   "outputs": [],
   "source": [
    "#Trabalhando com Dropdowns\n",
    "\n",
    "class CursoAutomacao:\n",
    "    def __init__(self):   \n",
    "        options = Options()\n",
    "        options.add_argument(\"start-maximized\")\n",
    "        self.driver = webdriver.Chrome(ChromeDriverManager().install(), options=options)\n",
    "        self.driver.get(\"https://cursoautomacao.netlify.app/index.html\")\n",
    "    \n",
    "    def Iniciar(self):\n",
    "        pais_dropdown = self.driver.find_element(By.XPATH, (\"//select[@id='paisselect']\"))\n",
    "        opcoes = Select(pais_dropdown)\n",
    "        opcoes.select_by_index(2) # Selecionando o canada\n",
    "        print('Selecionando a opção Canada')\n",
    "        time.sleep(2)\n",
    "        \n",
    "        opcoes.select_by_value('estadosunidos')\n",
    "        print('Selecionando a opção dos EUA')\n",
    "        time.sleep(2)\n",
    "        \n",
    "        opcoes.select_by_visible_text('Brasil')\n",
    "        print('Escolhido o Brasil')\n",
    "                                                            \n",
    "    "
   ]
  },
  {
   "cell_type": "code",
   "execution_count": 14,
   "id": "f9761458",
   "metadata": {
    "collapsed": true
   },
   "outputs": [
    {
     "name": "stdout",
     "output_type": "stream",
     "text": [
      "\n"
     ]
    },
    {
     "name": "stderr",
     "output_type": "stream",
     "text": [
      "[WDM] - ====== WebDriver manager ======\n",
      "[WDM] - Current google-chrome version is 112.0.5615\n",
      "[WDM] - Get LATEST chromedriver version for 112.0.5615 google-chrome\n",
      "[WDM] - Driver [C:\\Users\\55719\\.wdm\\drivers\\chromedriver\\win32\\112.0.5615.49\\chromedriver.exe] found in cache\n",
      "C:\\Users\\55719\\AppData\\Local\\Temp\\ipykernel_12752\\2355122515.py:5: DeprecationWarning: executable_path has been deprecated, please pass in a Service object\n",
      "  self.driver = webdriver.Chrome(ChromeDriverManager().install(), options=options)\n"
     ]
    },
    {
     "name": "stdout",
     "output_type": "stream",
     "text": [
      "Selecionando a opção Canada\n",
      "Selecionando a opção dos EUA\n",
      "Escolhido o Brasil\n"
     ]
    }
   ],
   "source": [
    "Curso =  CursoAutomacao()\n",
    "Curso.Iniciar()"
   ]
  }
 ],
 "metadata": {
  "kernelspec": {
   "display_name": "Python 3 (ipykernel)",
   "language": "python",
   "name": "python3"
  },
  "language_info": {
   "codemirror_mode": {
    "name": "ipython",
    "version": 3
   },
   "file_extension": ".py",
   "mimetype": "text/x-python",
   "name": "python",
   "nbconvert_exporter": "python",
   "pygments_lexer": "ipython3",
   "version": "3.9.12"
  }
 },
 "nbformat": 4,
 "nbformat_minor": 5
}

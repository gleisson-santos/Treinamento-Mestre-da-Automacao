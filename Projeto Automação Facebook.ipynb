{
 "cells": [
  {
   "cell_type": "code",
   "execution_count": 6,
   "id": "3ee13f27",
   "metadata": {},
   "outputs": [],
   "source": [
    "from selenium import webdriver\n",
    "from selenium.webdriver.chrome.options import Options\n",
    "from selenium.webdriver.common.by import By\n",
    "from selenium.webdriver.support.ui import WebDriverWait\n",
    "from selenium.common.exceptions import *\n",
    "from selenium.webdriver.common.keys import Keys\n",
    "from webdriver_manager.chrome import ChromeDriverManager\n",
    "from selenium.webdriver.support import expected_conditions as EC\n",
    "import time\n",
    "import random"
   ]
  },
  {
   "cell_type": "code",
   "execution_count": 24,
   "id": "61e7fe65",
   "metadata": {},
   "outputs": [
    {
     "name": "stdout",
     "output_type": "stream",
     "text": [
      "\n"
     ]
    },
    {
     "name": "stderr",
     "output_type": "stream",
     "text": [
      "[WDM] - ====== WebDriver manager ======\n",
      "[WDM] - Current google-chrome version is 112.0.5615\n",
      "[WDM] - Get LATEST chromedriver version for 112.0.5615 google-chrome\n",
      "[WDM] - Driver [C:\\Users\\55719\\.wdm\\drivers\\chromedriver\\win32\\112.0.5615.49\\chromedriver.exe] found in cache\n",
      "C:\\Users\\55719\\AppData\\Local\\Temp\\ipykernel_4120\\3962671553.py:4: DeprecationWarning: executable_path has been deprecated, please pass in a Service object\n",
      "  driver = webdriver.Chrome(ChromeDriverManager().install(), options=options)\n"
     ]
    }
   ],
   "source": [
    "options = Options()\n",
    "options.add_argument('--lang=pt-BR')\n",
    "options.add_argument('--disable-notifications')\n",
    "driver = webdriver.Chrome(ChromeDriverManager().install(), options=options)\n",
    "wait = WebDriverWait (\n",
    "    driver=driver,\n",
    "    timeout=10,\n",
    "    poll_frequency=1,\n",
    "    ignored_exceptions=[\n",
    "        NoSuchElementException,\n",
    "        ElementNotVisibleException,\n",
    "        ElementNotSelectableException        \n",
    "    ]\n",
    ")\n",
    "\n",
    "linkFacebook = 'http://www.facebook.com'\n",
    "email = 'loucuuu@hotmail.com'\n",
    "senha = 'Salvadorssag*'\n",
    "\n",
    "time.sleep(1)\n",
    "driver.get(linkFacebook)"
   ]
  },
  {
   "cell_type": "code",
   "execution_count": 27,
   "id": "5c086508",
   "metadata": {},
   "outputs": [],
   "source": [
    "driver.find_element(By.ID, 'email').send_keys(email)\n",
    "time.sleep(0.5)\n",
    "driver.find_element(By.ID, 'pass').send_keys(email)\n",
    "time.sleep(0.5)\n",
    "driver.find_element(By.NAME, 'login').click()\n"
   ]
  }
 ],
 "metadata": {
  "kernelspec": {
   "display_name": "Python 3 (ipykernel)",
   "language": "python",
   "name": "python3"
  },
  "language_info": {
   "codemirror_mode": {
    "name": "ipython",
    "version": 3
   },
   "file_extension": ".py",
   "mimetype": "text/x-python",
   "name": "python",
   "nbconvert_exporter": "python",
   "pygments_lexer": "ipython3",
   "version": "3.9.12"
  }
 },
 "nbformat": 4,
 "nbformat_minor": 5
}
